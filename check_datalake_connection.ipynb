{
 "cells": [
  {
   "cell_type": "code",
   "execution_count": 10,
   "id": "0bd0b104-c7e8-461f-9346-42e9e5c078d4",
   "metadata": {},
   "outputs": [],
   "source": [
    "import numpy as np\n",
    "import pandas as pd\n",
    "import seaborn as sns\n",
    "import io\n",
    "\n",
    "from dsgtools import azure\n",
    "\n",
    "from azure.identity import AzureCliCredential\n",
    "from azure.storage.filedatalake import DataLakeServiceClient, DataLakeFileClient\n",
    "from ast import literal_eval"
   ]
  },
  {
   "cell_type": "code",
   "execution_count": 11,
   "id": "77637ce0-52e6-4cf5-ba4c-4f2ff4e179a1",
   "metadata": {},
   "outputs": [],
   "source": [
    "# Must run this code before we can write any files. Only needs to be ran once per python script.\n",
    "cred = AzureCliCredential() \n",
    "storage_account = \"datalakestoragenfsk522vz\" \n",
    "file_system = \"datalakegen2filesystem\" \n",
    "\n",
    "service_client = DataLakeServiceClient(\n",
    "    f\"https://{storage_account}.dfs.core.windows.net/\", credential=cred\n",
    ")"
   ]
  },
  {
   "attachments": {},
   "cell_type": "markdown",
   "id": "525e73e7",
   "metadata": {},
   "source": [
    "this is me just showing how to resolve conflicts on branch to branch merge"
   ]
  },
  {
   "cell_type": "code",
   "execution_count": 12,
   "id": "1a3125c9-fd0a-4b97-841d-f683489b5491",
   "metadata": {},
   "outputs": [
    {
     "data": {
      "text/plain": [
       "True"
      ]
     },
     "execution_count": 12,
     "metadata": {},
     "output_type": "execute_result"
    }
   ],
   "source": [
    "new_file_client = service_client.get_file_client(file_system, \"analytics/auto/commercial/00001_TestConnectivity/iris.csv\")\n",
    "new_file_client.exists() # Checking if file aleady exists"
   ]
  },
  {
   "cell_type": "code",
   "execution_count": 13,
   "id": "2825a7ec-4070-4085-963d-394970f7cedc",
   "metadata": {},
   "outputs": [
    {
     "data": {
      "text/html": [
       "<div>\n",
       "<style scoped>\n",
       "    .dataframe tbody tr th:only-of-type {\n",
       "        vertical-align: middle;\n",
       "    }\n",
       "\n",
       "    .dataframe tbody tr th {\n",
       "        vertical-align: top;\n",
       "    }\n",
       "\n",
       "    .dataframe thead th {\n",
       "        text-align: right;\n",
       "    }\n",
       "</style>\n",
       "<table border=\"1\" class=\"dataframe\">\n",
       "  <thead>\n",
       "    <tr style=\"text-align: right;\">\n",
       "      <th></th>\n",
       "      <th>id</th>\n",
       "      <th>sepal_length</th>\n",
       "      <th>sepal_width</th>\n",
       "      <th>petal_length</th>\n",
       "      <th>petal_width</th>\n",
       "      <th>species</th>\n",
       "    </tr>\n",
       "  </thead>\n",
       "  <tbody>\n",
       "    <tr>\n",
       "      <th>0</th>\n",
       "      <td>1</td>\n",
       "      <td>5.1</td>\n",
       "      <td>3.5</td>\n",
       "      <td>1.4</td>\n",
       "      <td>0.2</td>\n",
       "      <td>setosa</td>\n",
       "    </tr>\n",
       "    <tr>\n",
       "      <th>1</th>\n",
       "      <td>2</td>\n",
       "      <td>4.9</td>\n",
       "      <td>3.0</td>\n",
       "      <td>1.4</td>\n",
       "      <td>0.2</td>\n",
       "      <td>setosa</td>\n",
       "    </tr>\n",
       "    <tr>\n",
       "      <th>2</th>\n",
       "      <td>3</td>\n",
       "      <td>4.7</td>\n",
       "      <td>3.2</td>\n",
       "      <td>1.3</td>\n",
       "      <td>0.2</td>\n",
       "      <td>setosa</td>\n",
       "    </tr>\n",
       "    <tr>\n",
       "      <th>3</th>\n",
       "      <td>4</td>\n",
       "      <td>4.6</td>\n",
       "      <td>3.1</td>\n",
       "      <td>1.5</td>\n",
       "      <td>0.2</td>\n",
       "      <td>setosa</td>\n",
       "    </tr>\n",
       "    <tr>\n",
       "      <th>4</th>\n",
       "      <td>5</td>\n",
       "      <td>5.0</td>\n",
       "      <td>3.6</td>\n",
       "      <td>1.4</td>\n",
       "      <td>0.2</td>\n",
       "      <td>setosa</td>\n",
       "    </tr>\n",
       "  </tbody>\n",
       "</table>\n",
       "</div>"
      ],
      "text/plain": [
       "   id  sepal_length  sepal_width  petal_length  petal_width species\n",
       "0   1           5.1          3.5           1.4          0.2  setosa\n",
       "1   2           4.9          3.0           1.4          0.2  setosa\n",
       "2   3           4.7          3.2           1.3          0.2  setosa\n",
       "3   4           4.6          3.1           1.5          0.2  setosa\n",
       "4   5           5.0          3.6           1.4          0.2  setosa"
      ]
     },
     "execution_count": 13,
     "metadata": {},
     "output_type": "execute_result"
    }
   ],
   "source": [
    "test_iris = pd.read_csv(io.BytesIO(new_file_client.download_file().readall()))\n",
    "test_iris.head()"
   ]
  },
  {
   "attachments": {},
   "cell_type": "markdown",
   "id": "a8299726",
   "metadata": {},
   "source": [
    "# Read Data using Dsgtools"
   ]
  },
  {
   "cell_type": "code",
<<<<<<< HEAD
   "execution_count": 14,
   "id": "5908f328-22a8-4c82-9bfd-5d5e9551c9ba",
   "metadata": {},
   "outputs": [],
   "source": [
    "from dsgtools import azure"
=======
   "execution_count": 5,
   "id": "5605f1d9",
   "metadata": {},
   "outputs": [
    {
     "data": {
      "text/plain": [
       "{'date': datetime.datetime(2023, 4, 11, 16, 20, 42, tzinfo=datetime.timezone.utc),\n",
       " 'etag': '\"0x8DB3AA8B2FFFC7D\"',\n",
       " 'last_modified': datetime.datetime(2023, 4, 11, 16, 20, 43, tzinfo=datetime.timezone.utc),\n",
       " 'content_length': 0,\n",
       " 'client_request_id': 'cda85ff6-d884-11ed-9474-000d3a0364d0',\n",
       " 'request_id': '0b256b1a-001f-0019-1e91-6c75cc000000',\n",
       " 'version': '2021-12-02',\n",
       " 'request_server_encrypted': False,\n",
       " 'encryption_key_sha256': None,\n",
       " 'lease_renewed': None}"
      ]
     },
     "execution_count": 5,
     "metadata": {},
     "output_type": "execute_result"
    }
   ],
   "source": [
    "# use if uploading as same name\n",
    "new_file_client.upload_data(test_iris.to_csv(index=False), overwrite=True)"
   ]
  },
  {
   "cell_type": "code",
<<<<<<< Updated upstream
   "execution_count": 6,
   "id": "c30b2dd4",
=======
<<<<<<< HEAD
   "execution_count": 14,
=======
   "execution_count": 5,
   "id": "5605f1d9",
   "metadata": {},
   "outputs": [
    {
     "data": {
      "text/plain": [
       "{'date': datetime.datetime(2023, 4, 11, 16, 20, 42, tzinfo=datetime.timezone.utc),\n",
       " 'etag': '\"0x8DB3AA8B2FFFC7D\"',\n",
       " 'last_modified': datetime.datetime(2023, 4, 11, 16, 20, 43, tzinfo=datetime.timezone.utc),\n",
       " 'content_length': 0,\n",
       " 'client_request_id': 'cda85ff6-d884-11ed-9474-000d3a0364d0',\n",
       " 'request_id': '0b256b1a-001f-0019-1e91-6c75cc000000',\n",
       " 'version': '2021-12-02',\n",
       " 'request_server_encrypted': False,\n",
       " 'encryption_key_sha256': None,\n",
       " 'lease_renewed': None}"
      ]
     },
     "execution_count": 5,
     "metadata": {},
     "output_type": "execute_result"
    }
   ],
   "source": [
    "# use if uploading as same name\n",
    "new_file_client.upload_data(test_iris.to_csv(index=False), overwrite=True)"
   ]
  },
  {
   "cell_type": "code",
   "execution_count": 6,
   "id": "c30b2dd4",
   "metadata": {},
   "outputs": [],
   "source": [
    "# alternative way to upload - illustrating by changing file name and writing to lake\n",
    "test_iris.to_adls('analytics/auto/commercial/00001_TestConnectivity/iris_write_example.csv', format = '.csv',\n",
    "            storage_account = 'datalakestoragenfsk522vz', file_system = 'datalakegen2filesystem', overwrite = True)"
>>>>>>> origin/connect_Leigh
   ]
  },
  {
   "cell_type": "code",
<<<<<<< HEAD
   "execution_count": 8,
   "id": "26ed4468",
   "metadata": {},
   "outputs": [],
   "source": [
    "AZURE_ADLS_ACCOUNT = 'datalakestoragenfsk522vz' # This is the storage account for insurance. The default value is the storage account for business services.\n",
    "AZURE_ADLS_FILE_SYSTEM = 'datalakegen2filesystem' # This is the file system insurance (and business services) uses."
=======
   "execution_count": 9,
>>>>>>> origin/connect_Leigh
   "id": "5908f328-22a8-4c82-9bfd-5d5e9551c9ba",
>>>>>>> Stashed changes
   "metadata": {},
   "outputs": [
    {
     "data": {
      "text/plain": [
       "True"
      ]
     },
     "execution_count": 9,
     "metadata": {},
     "output_type": "execute_result"
    }
   ],
   "source": [
    "# now just read another kind of file\n",
    "new_file_client = service_client.get_file_client(file_system, \"analytics/auto/commercial/00001_TestConnectivity/iris.xlsx\")\n",
    "new_file_client.exists() # Checking if file aleady exists"
>>>>>>> origin/connect_Leigh
   ]
  },
  {
   "cell_type": "code",
<<<<<<< HEAD
   "execution_count": 9,
   "id": "171a3ad1",
=======
   "execution_count": 10,
   "id": "4b04064e",
>>>>>>> origin/connect_Leigh
   "metadata": {},
   "outputs": [
    {
     "data": {
      "text/html": [
       "<div>\n",
       "<style scoped>\n",
       "    .dataframe tbody tr th:only-of-type {\n",
       "        vertical-align: middle;\n",
       "    }\n",
       "\n",
       "    .dataframe tbody tr th {\n",
       "        vertical-align: top;\n",
       "    }\n",
       "\n",
       "    .dataframe thead th {\n",
       "        text-align: right;\n",
       "    }\n",
       "</style>\n",
       "<table border=\"1\" class=\"dataframe\">\n",
       "  <thead>\n",
       "    <tr style=\"text-align: right;\">\n",
       "      <th></th>\n",
<<<<<<< HEAD
       "      <th>RECORD</th>\n",
       "      <th>INSUREDLONGNAME</th>\n",
       "      <th>LINEOFBUSINESS</th>\n",
       "      <th>POLICYEFFECTIVEDATE</th>\n",
       "      <th>EARNEDPREMIUM</th>\n",
       "      <th>INCURREDLOSSDOLLARS</th>\n",
       "      <th>DRIVERFIRSTNAME</th>\n",
       "      <th>DRIVERLASTNAME</th>\n",
       "      <th>DRIVERNUMBER</th>\n",
       "      <th>DRIVERBIRTHDATE</th>\n",
       "      <th>...</th>\n",
       "      <th>LN_KEY</th>\n",
       "      <th>CR_PolicyEffectiveDate</th>\n",
       "      <th>CR_PolicyNumber</th>\n",
       "      <th>CR_NetIncurredLoss</th>\n",
       "      <th>CR_ClaimNumber</th>\n",
       "      <th>CR_CatastropheIndicator</th>\n",
       "      <th>CR_SequenceNumber</th>\n",
       "      <th>CR_PolicyType</th>\n",
       "      <th>CR_PolicyPrefix</th>\n",
       "      <th>CR_RiskStatePostalCode</th>\n",
=======
       "      <th>id</th>\n",
       "      <th>sepal_length</th>\n",
       "      <th>sepal_width</th>\n",
       "      <th>petal_length</th>\n",
       "      <th>petal_width</th>\n",
       "      <th>species</th>\n",
>>>>>>> origin/connect_Leigh
       "    </tr>\n",
       "  </thead>\n",
       "  <tbody>\n",
       "    <tr>\n",
       "      <th>0</th>\n",
       "      <td>1</td>\n",
<<<<<<< HEAD
       "      <td>1000 Words Llc</td>\n",
       "      <td>CPP</td>\n",
       "      <td>20150606</td>\n",
       "      <td>2578</td>\n",
       "      <td>0.00</td>\n",
       "      <td>Michael</td>\n",
       "      <td>Abella</td>\n",
       "      <td>1</td>\n",
       "      <td>19640612.0</td>\n",
       "      <td>...</td>\n",
       "      <td>20000001</td>\n",
       "      <td>20150606</td>\n",
       "      <td>1</td>\n",
       "      <td>0.00</td>\n",
       "      <td>1</td>\n",
       "      <td>N</td>\n",
       "      <td>20000001</td>\n",
       "      <td>CPP</td>\n",
       "      <td>CPP</td>\n",
       "      <td>WA</td>\n",
       "    </tr>\n",
       "    <tr>\n",
       "      <th>1</th>\n",
       "      <td>1</td>\n",
       "      <td>1000 Words Llc</td>\n",
       "      <td>CPP</td>\n",
       "      <td>20160606</td>\n",
       "      <td>2516</td>\n",
       "      <td>0.00</td>\n",
       "      <td>Michael</td>\n",
       "      <td>Abella</td>\n",
       "      <td>1</td>\n",
       "      <td>19640612.0</td>\n",
       "      <td>...</td>\n",
       "      <td>20000003</td>\n",
       "      <td>20160606</td>\n",
       "      <td>1</td>\n",
       "      <td>0.00</td>\n",
       "      <td>1</td>\n",
       "      <td>N</td>\n",
       "      <td>20000003</td>\n",
       "      <td>CPP</td>\n",
       "      <td>CPP</td>\n",
       "      <td>WA</td>\n",
       "    </tr>\n",
       "    <tr>\n",
       "      <th>2</th>\n",
       "      <td>1</td>\n",
       "      <td>1000 Words Llc</td>\n",
       "      <td>CPP</td>\n",
       "      <td>20170606</td>\n",
       "      <td>2763</td>\n",
       "      <td>0.00</td>\n",
       "      <td>Michael</td>\n",
       "      <td>Abella</td>\n",
       "      <td>1</td>\n",
       "      <td>19640612.0</td>\n",
       "      <td>...</td>\n",
       "      <td>20000005</td>\n",
       "      <td>20170606</td>\n",
       "      <td>1</td>\n",
       "      <td>0.00</td>\n",
       "      <td>1</td>\n",
       "      <td>N</td>\n",
       "      <td>20000005</td>\n",
       "      <td>CPP</td>\n",
       "      <td>CPP</td>\n",
       "      <td>WA</td>\n",
       "    </tr>\n",
       "    <tr>\n",
       "      <th>3</th>\n",
       "      <td>1</td>\n",
       "      <td>1000 Words Llc</td>\n",
       "      <td>CPP</td>\n",
       "      <td>20180606</td>\n",
       "      <td>2769</td>\n",
       "      <td>0.00</td>\n",
       "      <td>Michael</td>\n",
       "      <td>Abella</td>\n",
       "      <td>1</td>\n",
       "      <td>19640612.0</td>\n",
       "      <td>...</td>\n",
       "      <td>20000007</td>\n",
       "      <td>20180606</td>\n",
       "      <td>1</td>\n",
       "      <td>0.00</td>\n",
       "      <td>1</td>\n",
       "      <td>N</td>\n",
       "      <td>20000007</td>\n",
       "      <td>CPP</td>\n",
       "      <td>CPP</td>\n",
       "      <td>WA</td>\n",
       "    </tr>\n",
       "    <tr>\n",
       "      <th>4</th>\n",
       "      <td>1</td>\n",
       "      <td>1000 Words Llc</td>\n",
       "      <td>CPP</td>\n",
       "      <td>20190606</td>\n",
       "      <td>2684</td>\n",
       "      <td>2125.22</td>\n",
       "      <td>Michael</td>\n",
       "      <td>Abella</td>\n",
       "      <td>1</td>\n",
       "      <td>19640612.0</td>\n",
       "      <td>...</td>\n",
       "      <td>20000009</td>\n",
       "      <td>20190606</td>\n",
       "      <td>1</td>\n",
       "      <td>2125.22</td>\n",
       "      <td>1</td>\n",
       "      <td>N</td>\n",
       "      <td>20000009</td>\n",
       "      <td>CPP</td>\n",
       "      <td>CPP</td>\n",
       "      <td>WA</td>\n",
       "    </tr>\n",
       "  </tbody>\n",
       "</table>\n",
       "<p>5 rows × 27 columns</p>\n",
       "</div>"
      ],
      "text/plain": [
       "   RECORD INSUREDLONGNAME LINEOFBUSINESS  POLICYEFFECTIVEDATE  EARNEDPREMIUM  \\\n",
       "0       1  1000 Words Llc            CPP             20150606           2578   \n",
       "1       1  1000 Words Llc            CPP             20160606           2516   \n",
       "2       1  1000 Words Llc            CPP             20170606           2763   \n",
       "3       1  1000 Words Llc            CPP             20180606           2769   \n",
       "4       1  1000 Words Llc            CPP             20190606           2684   \n",
       "\n",
       "   INCURREDLOSSDOLLARS DRIVERFIRSTNAME DRIVERLASTNAME  DRIVERNUMBER  \\\n",
       "0                 0.00         Michael         Abella             1   \n",
       "1                 0.00         Michael         Abella             1   \n",
       "2                 0.00         Michael         Abella             1   \n",
       "3                 0.00         Michael         Abella             1   \n",
       "4              2125.22         Michael         Abella             1   \n",
       "\n",
       "   DRIVERBIRTHDATE  ...    LN_KEY CR_PolicyEffectiveDate  CR_PolicyNumber  \\\n",
       "0       19640612.0  ...  20000001               20150606                1   \n",
       "1       19640612.0  ...  20000003               20160606                1   \n",
       "2       19640612.0  ...  20000005               20170606                1   \n",
       "3       19640612.0  ...  20000007               20180606                1   \n",
       "4       19640612.0  ...  20000009               20190606                1   \n",
       "\n",
       "   CR_NetIncurredLoss  CR_ClaimNumber  CR_CatastropheIndicator  \\\n",
       "0                0.00               1                        N   \n",
       "1                0.00               1                        N   \n",
       "2                0.00               1                        N   \n",
       "3                0.00               1                        N   \n",
       "4             2125.22               1                        N   \n",
       "\n",
       "   CR_SequenceNumber  CR_PolicyType  CR_PolicyPrefix  CR_RiskStatePostalCode  \n",
       "0           20000001            CPP              CPP                      WA  \n",
       "1           20000003            CPP              CPP                      WA  \n",
       "2           20000005            CPP              CPP                      WA  \n",
       "3           20000007            CPP              CPP                      WA  \n",
       "4           20000009            CPP              CPP                      WA  \n",
       "\n",
       "[5 rows x 27 columns]"
      ]
     },
     "execution_count": 9,
=======
       "      <td>5.1</td>\n",
       "      <td>3.5</td>\n",
       "      <td>1.4</td>\n",
       "      <td>0.2</td>\n",
       "      <td>setosa</td>\n",
       "    </tr>\n",
       "    <tr>\n",
       "      <th>1</th>\n",
       "      <td>2</td>\n",
       "      <td>4.9</td>\n",
       "      <td>3.0</td>\n",
       "      <td>1.4</td>\n",
       "      <td>0.2</td>\n",
       "      <td>setosa</td>\n",
       "    </tr>\n",
       "    <tr>\n",
       "      <th>2</th>\n",
       "      <td>3</td>\n",
       "      <td>4.7</td>\n",
       "      <td>3.2</td>\n",
       "      <td>1.3</td>\n",
       "      <td>0.2</td>\n",
       "      <td>setosa</td>\n",
       "    </tr>\n",
       "    <tr>\n",
       "      <th>3</th>\n",
       "      <td>4</td>\n",
       "      <td>4.6</td>\n",
       "      <td>3.1</td>\n",
       "      <td>1.5</td>\n",
       "      <td>0.2</td>\n",
       "      <td>setosa</td>\n",
       "    </tr>\n",
       "    <tr>\n",
       "      <th>4</th>\n",
       "      <td>5</td>\n",
       "      <td>5.0</td>\n",
       "      <td>3.6</td>\n",
       "      <td>1.4</td>\n",
       "      <td>0.2</td>\n",
       "      <td>setosa</td>\n",
       "    </tr>\n",
       "  </tbody>\n",
       "</table>\n",
       "</div>"
      ],
      "text/plain": [
       "   id  sepal_length  sepal_width  petal_length  petal_width species\n",
       "0   1           5.1          3.5           1.4          0.2  setosa\n",
       "1   2           4.9          3.0           1.4          0.2  setosa\n",
       "2   3           4.7          3.2           1.3          0.2  setosa\n",
       "3   4           4.6          3.1           1.5          0.2  setosa\n",
       "4   5           5.0          3.6           1.4          0.2  setosa"
      ]
     },
     "execution_count": 10,
     "metadata": {},
     "output_type": "execute_result"
    }
   ],
   "source": [
    "test1_iris = pd.read_excel(io.BytesIO(new_file_client.download_file().readall()))\n",
    "test1_iris.head()"
   ]
  },
  {
   "cell_type": "code",
   "execution_count": 7,
   "id": "3ca0880a",
   "metadata": {},
   "outputs": [
    {
     "data": {
      "text/plain": [
       "True"
      ]
     },
     "execution_count": 7,
     "metadata": {},
     "output_type": "execute_result"
    }
   ],
   "source": [
    "# adding another kind of file: parquet\n",
    "\n",
    "new_file_client = service_client.get_file_client(file_system, \"analytics/auto/commercial/00001_TestConnectivity/iris.parquet\")\n",
    "new_file_client.exists() # Checking if file aleady exists"
   ]
  },
  {
   "cell_type": "code",
   "execution_count": 8,
   "id": "acd5c039",
   "metadata": {},
   "outputs": [
    {
     "data": {
      "text/html": [
       "<div>\n",
       "<style scoped>\n",
       "    .dataframe tbody tr th:only-of-type {\n",
       "        vertical-align: middle;\n",
       "    }\n",
       "\n",
       "    .dataframe tbody tr th {\n",
       "        vertical-align: top;\n",
       "    }\n",
       "\n",
       "    .dataframe thead th {\n",
       "        text-align: right;\n",
       "    }\n",
       "</style>\n",
       "<table border=\"1\" class=\"dataframe\">\n",
       "  <thead>\n",
       "    <tr style=\"text-align: right;\">\n",
       "      <th></th>\n",
       "      <th>id</th>\n",
       "      <th>sepal_length</th>\n",
       "      <th>sepal_width</th>\n",
       "      <th>petal_length</th>\n",
       "      <th>petal_width</th>\n",
       "      <th>species</th>\n",
       "    </tr>\n",
       "  </thead>\n",
       "  <tbody>\n",
       "    <tr>\n",
       "      <th>0</th>\n",
       "      <td>1</td>\n",
       "      <td>5.1</td>\n",
       "      <td>3.5</td>\n",
       "      <td>1.4</td>\n",
       "      <td>0.2</td>\n",
       "      <td>setosa</td>\n",
       "    </tr>\n",
       "    <tr>\n",
       "      <th>1</th>\n",
       "      <td>2</td>\n",
       "      <td>4.9</td>\n",
       "      <td>3.0</td>\n",
       "      <td>1.4</td>\n",
       "      <td>0.2</td>\n",
       "      <td>setosa</td>\n",
       "    </tr>\n",
       "    <tr>\n",
       "      <th>2</th>\n",
       "      <td>3</td>\n",
       "      <td>4.7</td>\n",
       "      <td>3.2</td>\n",
       "      <td>1.3</td>\n",
       "      <td>0.2</td>\n",
       "      <td>setosa</td>\n",
       "    </tr>\n",
       "    <tr>\n",
       "      <th>3</th>\n",
       "      <td>4</td>\n",
       "      <td>4.6</td>\n",
       "      <td>3.1</td>\n",
       "      <td>1.5</td>\n",
       "      <td>0.2</td>\n",
       "      <td>setosa</td>\n",
       "    </tr>\n",
       "    <tr>\n",
       "      <th>4</th>\n",
       "      <td>5</td>\n",
       "      <td>5.0</td>\n",
       "      <td>3.6</td>\n",
       "      <td>1.4</td>\n",
       "      <td>0.2</td>\n",
       "      <td>setosa</td>\n",
       "    </tr>\n",
       "  </tbody>\n",
       "</table>\n",
       "</div>"
      ],
      "text/plain": [
       "   id  sepal_length  sepal_width  petal_length  petal_width species\n",
       "0   1           5.1          3.5           1.4          0.2  setosa\n",
       "1   2           4.9          3.0           1.4          0.2  setosa\n",
       "2   3           4.7          3.2           1.3          0.2  setosa\n",
       "3   4           4.6          3.1           1.5          0.2  setosa\n",
       "4   5           5.0          3.6           1.4          0.2  setosa"
      ]
     },
     "execution_count": 8,
     "metadata": {},
     "output_type": "execute_result"
    }
   ],
   "source": [
    "test2_iris = pd.read_parquet(io.BytesIO(new_file_client.download_file().readall()))\n",
    "test2_iris.head()"
   ]
  },
  {
   "cell_type": "code",
   "execution_count": null,
   "id": "92546be5",
   "metadata": {},
   "outputs": [],
   "source": [
<<<<<<< Updated upstream
    "# alternative way to upload - illustrating by changing file name and writing to lake\n",
    "test_iris.to_adls('analytics/auto/commercial/00001_TestConnectivity/iris_write_example.csv', format = '.csv',\n",
    "            storage_account = 'datalakestoragenfsk522vz', file_system = 'datalakegen2filesystem', overwrite = True)"
=======
<<<<<<< HEAD
    "from dsgtools import azure"
>>>>>>> Stashed changes
   ]
  },
  {
   "cell_type": "code",
   "execution_count": 9,
   "id": "5908f328-22a8-4c82-9bfd-5d5e9551c9ba",
   "metadata": {},
   "outputs": [
    {
     "data": {
      "text/plain": [
       "True"
      ]
     },
     "execution_count": 9,
     "metadata": {},
     "output_type": "execute_result"
    }
   ],
   "source": [
    "# now just read another kind of file\n",
    "new_file_client = service_client.get_file_client(file_system, \"analytics/auto/commercial/00001_TestConnectivity/iris.xlsx\")\n",
    "new_file_client.exists() # Checking if file aleady exists"
   ]
  },
  {
   "cell_type": "code",
   "execution_count": 10,
   "id": "4b04064e",
   "metadata": {},
   "outputs": [
    {
     "data": {
      "text/html": [
       "<div>\n",
       "<style scoped>\n",
       "    .dataframe tbody tr th:only-of-type {\n",
       "        vertical-align: middle;\n",
       "    }\n",
       "\n",
       "    .dataframe tbody tr th {\n",
       "        vertical-align: top;\n",
       "    }\n",
       "\n",
       "    .dataframe thead th {\n",
       "        text-align: right;\n",
       "    }\n",
       "</style>\n",
       "<table border=\"1\" class=\"dataframe\">\n",
       "  <thead>\n",
       "    <tr style=\"text-align: right;\">\n",
       "      <th></th>\n",
       "      <th>id</th>\n",
       "      <th>sepal_length</th>\n",
       "      <th>sepal_width</th>\n",
       "      <th>petal_length</th>\n",
       "      <th>petal_width</th>\n",
       "      <th>species</th>\n",
       "    </tr>\n",
       "  </thead>\n",
       "  <tbody>\n",
       "    <tr>\n",
       "      <th>0</th>\n",
       "      <td>1</td>\n",
       "      <td>5.1</td>\n",
       "      <td>3.5</td>\n",
       "      <td>1.4</td>\n",
       "      <td>0.2</td>\n",
       "      <td>setosa</td>\n",
       "    </tr>\n",
       "    <tr>\n",
       "      <th>1</th>\n",
       "      <td>2</td>\n",
       "      <td>4.9</td>\n",
       "      <td>3.0</td>\n",
       "      <td>1.4</td>\n",
       "      <td>0.2</td>\n",
       "      <td>setosa</td>\n",
       "    </tr>\n",
       "    <tr>\n",
       "      <th>2</th>\n",
       "      <td>3</td>\n",
       "      <td>4.7</td>\n",
       "      <td>3.2</td>\n",
       "      <td>1.3</td>\n",
       "      <td>0.2</td>\n",
       "      <td>setosa</td>\n",
       "    </tr>\n",
       "    <tr>\n",
       "      <th>3</th>\n",
       "      <td>4</td>\n",
       "      <td>4.6</td>\n",
       "      <td>3.1</td>\n",
       "      <td>1.5</td>\n",
       "      <td>0.2</td>\n",
       "      <td>setosa</td>\n",
       "    </tr>\n",
       "    <tr>\n",
       "      <th>4</th>\n",
       "      <td>5</td>\n",
       "      <td>5.0</td>\n",
       "      <td>3.6</td>\n",
       "      <td>1.4</td>\n",
       "      <td>0.2</td>\n",
       "      <td>setosa</td>\n",
       "    </tr>\n",
       "  </tbody>\n",
       "</table>\n",
       "</div>"
      ],
      "text/plain": [
       "   id  sepal_length  sepal_width  petal_length  petal_width species\n",
       "0   1           5.1          3.5           1.4          0.2  setosa\n",
       "1   2           4.9          3.0           1.4          0.2  setosa\n",
       "2   3           4.7          3.2           1.3          0.2  setosa\n",
       "3   4           4.6          3.1           1.5          0.2  setosa\n",
       "4   5           5.0          3.6           1.4          0.2  setosa"
      ]
     },
     "execution_count": 10,
     "metadata": {},
     "output_type": "execute_result"
    }
   ],
   "source": [
    "test1_iris = pd.read_excel(io.BytesIO(new_file_client.download_file().readall()))\n",
    "test1_iris.head()"
   ]
  },
  {
   "cell_type": "code",
   "execution_count": 7,
   "id": "3ca0880a",
   "metadata": {},
   "outputs": [
    {
     "data": {
      "text/plain": [
       "True"
      ]
     },
     "execution_count": 7,
     "metadata": {},
     "output_type": "execute_result"
    }
   ],
   "source": [
    "# adding another kind of file: parquet\n",
    "\n",
    "new_file_client = service_client.get_file_client(file_system, \"analytics/auto/commercial/00001_TestConnectivity/iris.parquet\")\n",
    "new_file_client.exists() # Checking if file aleady exists"
   ]
  },
  {
   "cell_type": "code",
   "execution_count": 8,
   "id": "acd5c039",
   "metadata": {},
   "outputs": [
    {
     "data": {
      "text/html": [
       "<div>\n",
       "<style scoped>\n",
       "    .dataframe tbody tr th:only-of-type {\n",
       "        vertical-align: middle;\n",
       "    }\n",
       "\n",
       "    .dataframe tbody tr th {\n",
       "        vertical-align: top;\n",
       "    }\n",
       "\n",
       "    .dataframe thead th {\n",
       "        text-align: right;\n",
       "    }\n",
       "</style>\n",
       "<table border=\"1\" class=\"dataframe\">\n",
       "  <thead>\n",
       "    <tr style=\"text-align: right;\">\n",
       "      <th></th>\n",
       "      <th>id</th>\n",
       "      <th>sepal_length</th>\n",
       "      <th>sepal_width</th>\n",
       "      <th>petal_length</th>\n",
       "      <th>petal_width</th>\n",
       "      <th>species</th>\n",
       "    </tr>\n",
       "  </thead>\n",
       "  <tbody>\n",
       "    <tr>\n",
       "      <th>0</th>\n",
       "      <td>1</td>\n",
       "      <td>5.1</td>\n",
       "      <td>3.5</td>\n",
       "      <td>1.4</td>\n",
       "      <td>0.2</td>\n",
       "      <td>setosa</td>\n",
       "    </tr>\n",
       "    <tr>\n",
       "      <th>1</th>\n",
       "      <td>2</td>\n",
       "      <td>4.9</td>\n",
       "      <td>3.0</td>\n",
       "      <td>1.4</td>\n",
       "      <td>0.2</td>\n",
       "      <td>setosa</td>\n",
       "    </tr>\n",
       "    <tr>\n",
       "      <th>2</th>\n",
       "      <td>3</td>\n",
       "      <td>4.7</td>\n",
       "      <td>3.2</td>\n",
       "      <td>1.3</td>\n",
       "      <td>0.2</td>\n",
       "      <td>setosa</td>\n",
       "    </tr>\n",
       "    <tr>\n",
       "      <th>3</th>\n",
       "      <td>4</td>\n",
       "      <td>4.6</td>\n",
       "      <td>3.1</td>\n",
       "      <td>1.5</td>\n",
       "      <td>0.2</td>\n",
       "      <td>setosa</td>\n",
       "    </tr>\n",
       "    <tr>\n",
       "      <th>4</th>\n",
       "      <td>5</td>\n",
       "      <td>5.0</td>\n",
       "      <td>3.6</td>\n",
       "      <td>1.4</td>\n",
       "      <td>0.2</td>\n",
       "      <td>setosa</td>\n",
       "    </tr>\n",
       "  </tbody>\n",
       "</table>\n",
       "</div>"
      ],
      "text/plain": [
       "   id  sepal_length  sepal_width  petal_length  petal_width species\n",
       "0   1           5.1          3.5           1.4          0.2  setosa\n",
       "1   2           4.9          3.0           1.4          0.2  setosa\n",
       "2   3           4.7          3.2           1.3          0.2  setosa\n",
       "3   4           4.6          3.1           1.5          0.2  setosa\n",
       "4   5           5.0          3.6           1.4          0.2  setosa"
      ]
     },
     "execution_count": 8,
>>>>>>> origin/connect_Leigh
     "metadata": {},
     "output_type": "execute_result"
    }
   ],
   "source": [
<<<<<<< HEAD
=======
<<<<<<< Updated upstream
    "test2_iris = pd.read_parquet(io.BytesIO(new_file_client.download_file().readall()))\n",
    "test2_iris.head()"
   ]
  },
  {
   "cell_type": "code",
   "execution_count": null,
   "id": "92546be5",
   "metadata": {},
   "outputs": [],
   "source": [
    "# let's try another format\n",
    "\n",
    "\n"
=======
>>>>>>> origin/connect_Leigh
    "# Read csv file in datalake\n",
    "df1 = pd.read_adls(\"analytics/auto/commercial/DQC/loss_mapped.csv\", reader = pd.read_csv,\n",
    "                    storage_account = AZURE_ADLS_ACCOUNT, file_system = AZURE_ADLS_FILE_SYSTEM, low_memory = False)\n",
    "df1.head()"
<<<<<<< HEAD
=======
=======
    "# let's try another format\n",
    "\n",
    "\n"
>>>>>>> origin/connect_Leigh
>>>>>>> Stashed changes
>>>>>>> origin/connect_Leigh
   ]
  }
 ],
 "metadata": {
  "kernelspec": {
<<<<<<< HEAD
   "display_name": "python_custom_1",
=======
<<<<<<< Updated upstream
   "display_name": "python_custom1",
=======
<<<<<<< HEAD
   "display_name": "python_custom_1",
=======
   "display_name": "python_custom1",
>>>>>>> origin/connect_Leigh
>>>>>>> Stashed changes
>>>>>>> origin/connect_Leigh
   "language": "python",
   "name": "python3"
  },
  "language_info": {
   "codemirror_mode": {
    "name": "ipython",
    "version": 3
   },
   "file_extension": ".py",
   "mimetype": "text/x-python",
   "name": "python",
   "nbconvert_exporter": "python",
   "pygments_lexer": "ipython3",
   "version": "3.10.6"
  }
 },
 "nbformat": 4,
 "nbformat_minor": 5
}
